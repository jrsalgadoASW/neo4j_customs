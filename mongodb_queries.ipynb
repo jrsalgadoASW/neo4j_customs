{
 "cells": [
  {
   "cell_type": "code",
   "execution_count": 1,
   "metadata": {},
   "outputs": [],
   "source": [
    "from pymongo import MongoClient\n",
    "from pprint import pprint\n",
    "# Connect to MongoDB server\n",
    "client = MongoClient(\"mongodb://localhost:27017/\")\n",
    "database = client[\"Customs\"]\n",
    "fact_table = database.get_collection(\"FactImportRegistry\")"
   ]
  },
  {
   "attachments": {},
   "cell_type": "markdown",
   "metadata": {},
   "source": [
    "# Most importing country"
   ]
  },
  {
   "cell_type": "code",
   "execution_count": 43,
   "metadata": {},
   "outputs": [
    {
     "name": "stdout",
     "output_type": "stream",
     "text": [
      "[{'count': 25417},\n",
      " {'NOMBRE_IMPORTADOR': 'SAMSUNG ELECTRONICS COLOMBIA S.A.', 'count': 8452},\n",
      " {'NOMBRE_IMPORTADOR': 'DECOWRAPS COLOMBIA S.A.S', 'count': 7072},\n",
      " {'NOMBRE_IMPORTADOR': 'LABORATORIOS CHALVER DE COLOMBIA S A', 'count': 6872},\n",
      " {'NOMBRE_IMPORTADOR': 'FIBERTEX CORPORATION', 'count': 5297},\n",
      " {'NOMBRE_IMPORTADOR': 'NEWREST CATERING COLOMBIA S.A.S', 'count': 4798},\n",
      " {'NOMBRE_IMPORTADOR': 'PDC VINOS Y LICORES SAS', 'count': 4081},\n",
      " {'NOMBRE_IMPORTADOR': 'ZALT SAS', 'count': 3088},\n",
      " {'NOMBRE_IMPORTADOR': 'STILOTEX SOCIEDAD POR ACCIONES SIMPLIFICADA',\n",
      "  'count': 2569},\n",
      " {'NOMBRE_IMPORTADOR': 'DECOWRAPS COLOMBIA S.A.S', 'count': 2541}]\n"
     ]
    }
   ],
   "source": [
    "\n",
    "group = {\"$group\": {\"_id\": \"$ImporterId\", \"count\": {\"$sum\": 1}}}\n",
    "sort = {\"$sort\": {\"count\": -1}}\n",
    "join = {\n",
    "    \"$lookup\": {\n",
    "        \"from\": \"DimImporter\",\n",
    "        \"localField\": \"_id\",\n",
    "        \"foreignField\": \"ImporterID\",\n",
    "        \"as\": \"ImporterInfo\",\n",
    "    }\n",
    "}\n",
    "unwind = {\"$unwind\": \"$ImporterInfo\"}\n",
    "project = {\n",
    "    \"$project\": {\n",
    "        \"_id\": 0,\n",
    "        \"NOMBRE_IMPORTADOR\": \"$ImporterInfo.NOMBRE_IMPORTADOR\",\n",
    "        \"count\": \"$count\",\n",
    "    }\n",
    "}  \n",
    "\n",
    "\n",
    "most_importing_country = fact_table.aggregate([group, sort, join, unwind, project])\n",
    "pprint(list(most_importing_country)[:10])\n"
   ]
  },
  {
   "cell_type": "code",
   "execution_count": null,
   "metadata": {},
   "outputs": [],
   "source": []
  }
 ],
 "metadata": {
  "kernelspec": {
   "display_name": ".venv",
   "language": "python",
   "name": "python3"
  },
  "language_info": {
   "codemirror_mode": {
    "name": "ipython",
    "version": 3
   },
   "file_extension": ".py",
   "mimetype": "text/x-python",
   "name": "python",
   "nbconvert_exporter": "python",
   "pygments_lexer": "ipython3",
   "version": "3.10.6"
  },
  "orig_nbformat": 4
 },
 "nbformat": 4,
 "nbformat_minor": 2
}
